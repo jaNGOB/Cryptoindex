{
 "cells": [
  {
   "cell_type": "code",
   "execution_count": 228,
   "metadata": {},
   "outputs": [],
   "source": [
    "import pandas as pd\n",
    "import numpy as np\n",
    "from datetime import date, timedelta, datetime"
   ]
  },
  {
   "cell_type": "code",
   "execution_count": 254,
   "metadata": {},
   "outputs": [],
   "source": [
    "def allsundays(year):\n",
    "    d = datetime(year, 1, 1)\n",
    "    d += timedelta(days = 6 - d.weekday())\n",
    "    while d.year == year:\n",
    "        yield d\n",
    "        d += timedelta(days = 7)\n",
    "    \n",
    "def everyday(year):\n",
    "    d = datetime(year, 1, 1)\n",
    "    while d.month == 1:\n",
    "        yield d\n",
    "        d += timedelta(days = 1)\n",
    "        \n",
    "def allocation(mktcaps, pairs):\n",
    "    pct = []\n",
    "    s = sum(mktcaps)\n",
    "    for c in mktcaps:\n",
    "        pct.append(100/s*c)\n",
    "    return pd.DataFrame(pct, pairs)"
   ]
  },
  {
   "cell_type": "code",
   "execution_count": 280,
   "metadata": {},
   "outputs": [],
   "source": [
    "sundays = []\n",
    "for d in allsundays(2018):\n",
    "    sundays.append(d)\n",
    "    \n",
    "daily_ts = []\n",
    "for d in everyday(2018):\n",
    "    daily_ts.append(d)"
   ]
  },
  {
   "cell_type": "code",
   "execution_count": 262,
   "metadata": {},
   "outputs": [],
   "source": [
    "df = pd.read_csv('hb/weekly_mktcap_2018.csv')\n",
    "daily = pd.read_csv('hb/daily_mktcap_01_2018.csv',index_col='Date', parse_dates=True)"
   ]
  },
  {
   "cell_type": "code",
   "execution_count": 298,
   "metadata": {},
   "outputs": [
    {
     "name": "stdout",
     "output_type": "stream",
     "text": [
      "2018-01-07 00:00:00\n",
      "2018-01-14 00:00:00\n",
      "2018-01-21 00:00:00\n",
      "2018-01-28 00:00:00\n"
     ]
    }
   ],
   "source": [
    "total_list = {}\n",
    "for sun in sundays:\n",
    "    for day in daily_ts:\n",
    "        if sun == day:\n",
    "            symbols = daily.loc[sun][:10]['Symbol'].values.tolist()\n",
    "            df = pd.DataFrame(columns=symbols)\n",
    "            table_daily = pd.pivot_table(daily, values=['MktCap', 'Price'], index=['Symbol', 'Date'],aggfunc=np.sum)\n",
    "            for s in symbols:\n",
    "                if sun not in total_list:\n",
    "                    total_list[sun] = [s, mktc[-1]]\n",
    "                else:\n",
    "                    total_list[sun].append([s, mktc[-1]])\n",
    "            print(sun)"
   ]
  },
  {
   "cell_type": "code",
   "execution_count": 299,
   "metadata": {},
   "outputs": [
    {
     "data": {
      "text/plain": [
       "{datetime.datetime(2018, 1, 7, 0, 0): ['BTC',\n",
       "  10283379947.714285,\n",
       "  ['XRP', 10283379947.714285],\n",
       "  ['ETH', 10283379947.714285],\n",
       "  ['BCH', 10283379947.714285],\n",
       "  ['ADA', 10283379947.714285],\n",
       "  ['XEM', 10283379947.714285],\n",
       "  ['LTC', 10283379947.714285],\n",
       "  ['TRX', 10283379947.714285],\n",
       "  ['XLM', 10283379947.714285],\n",
       "  ['MIOTA', 10283379947.714285]],\n",
       " datetime.datetime(2018, 1, 14, 0, 0): ['BTC',\n",
       "  10283379947.714285,\n",
       "  ['ETH', 10283379947.714285],\n",
       "  ['XRP', 10283379947.714285],\n",
       "  ['BCH', 10283379947.714285],\n",
       "  ['ADA', 10283379947.714285],\n",
       "  ['LTC', 10283379947.714285],\n",
       "  ['XEM', 10283379947.714285],\n",
       "  ['XLM', 10283379947.714285],\n",
       "  ['NEO', 10283379947.714285],\n",
       "  ['MIOTA', 10283379947.714285]],\n",
       " datetime.datetime(2018, 1, 21, 0, 0): ['BTC',\n",
       "  10283379947.714285,\n",
       "  ['ETH', 10283379947.714285],\n",
       "  ['XRP', 10283379947.714285],\n",
       "  ['BCH', 10283379947.714285],\n",
       "  ['ADA', 10283379947.714285],\n",
       "  ['LTC', 10283379947.714285],\n",
       "  ['XEM', 10283379947.714285],\n",
       "  ['NEO', 10283379947.714285],\n",
       "  ['EOS', 10283379947.714285],\n",
       "  ['XLM', 10283379947.714285]],\n",
       " datetime.datetime(2018, 1, 28, 0, 0): ['BTC',\n",
       "  10283379947.714285,\n",
       "  ['ETH', 10283379947.714285],\n",
       "  ['XRP', 10283379947.714285],\n",
       "  ['BCH', 10283379947.714285],\n",
       "  ['ADA', 10283379947.714285],\n",
       "  ['XLM', 10283379947.714285],\n",
       "  ['LTC', 10283379947.714285],\n",
       "  ['NEO', 10283379947.714285],\n",
       "  ['EOS', 10283379947.714285],\n",
       "  ['XEM', 10283379947.714285]]}"
      ]
     },
     "execution_count": 299,
     "metadata": {},
     "output_type": "execute_result"
    }
   ],
   "source": [
    "total_list"
   ]
  },
  {
   "cell_type": "code",
   "execution_count": null,
   "metadata": {},
   "outputs": [],
   "source": []
  }
 ],
 "metadata": {
  "kernelspec": {
   "display_name": "Python 3",
   "language": "python",
   "name": "python3"
  },
  "language_info": {
   "codemirror_mode": {
    "name": "ipython",
    "version": 3
   },
   "file_extension": ".py",
   "mimetype": "text/x-python",
   "name": "python",
   "nbconvert_exporter": "python",
   "pygments_lexer": "ipython3",
   "version": "3.7.2"
  }
 },
 "nbformat": 4,
 "nbformat_minor": 2
}
